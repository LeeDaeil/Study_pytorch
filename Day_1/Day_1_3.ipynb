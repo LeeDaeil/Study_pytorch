{
 "cells": [
  {
   "cell_type": "markdown",
   "metadata": {},
   "source": [
    "# Pytorch_Day1_3\n",
    "- 주요 내용\n",
    "    - pytorch의 신경망 패키지인 torch.nn을 사용한다.\n",
    "    - "
   ]
  },
  {
   "cell_type": "code",
   "execution_count": 2,
   "metadata": {},
   "outputs": [],
   "source": [
    "import torch\n",
    "import torch.nn as nn\n",
    "import torch.nn.functional as F\n",
    "import numpy as np"
   ]
  },
  {
   "cell_type": "code",
   "execution_count": 5,
   "metadata": {},
   "outputs": [],
   "source": [
    "class Net(nn.Module):\n",
    "    def __init__(self):\n",
    "        super(Net, self).__init__()\n",
    "        # 1 input image channel, 6 output channels, 5x5 square convolution\n",
    "        # kernel\n",
    "        self.conv1 = nn.Conv2d(1, 6, 5)\n",
    "        self.conv2 = nn.Conv2d(6, 16, 5)\n",
    "        # an affine operation: y = Wx + b\n",
    "        self.fc1 = nn.Linear(16 * 5 * 5, 120)\n",
    "        self.fc2 = nn.Linear(120, 84)\n",
    "        self.fc3 = nn.Linear(84, 10)\n",
    "\n",
    "    def forward(self, x):\n",
    "        # Max pooling over a (2, 2) window\n",
    "        x = F.max_pool2d(F.relu(self.conv1(x)), (2, 2))\n",
    "        # If the size is a square you can only specify a single number\n",
    "        x = F.max_pool2d(F.relu(self.conv2(x)), 2)\n",
    "        x = x.view(-1, self.num_flat_features(x))\n",
    "        x = F.relu(self.fc1(x))\n",
    "        x = F.relu(self.fc2(x))\n",
    "        x = self.fc3(x)\n",
    "        return x\n",
    "\n",
    "    def num_flat_features(self, x):\n",
    "        size = x.size()[1:]  # all dimensions except the batch dimension\n",
    "        num_features = 1\n",
    "        for s in size:\n",
    "            num_features *= s\n",
    "        return num_features"
   ]
  },
  {
   "cell_type": "code",
   "execution_count": 6,
   "metadata": {},
   "outputs": [
    {
     "data": {
      "text/plain": [
       "Net(\n",
       "  (conv1): Conv2d(1, 6, kernel_size=(5, 5), stride=(1, 1))\n",
       "  (conv2): Conv2d(6, 16, kernel_size=(5, 5), stride=(1, 1))\n",
       "  (fc1): Linear(in_features=400, out_features=120, bias=True)\n",
       "  (fc2): Linear(in_features=120, out_features=84, bias=True)\n",
       "  (fc3): Linear(in_features=84, out_features=10, bias=True)\n",
       ")"
      ]
     },
     "execution_count": 6,
     "metadata": {},
     "output_type": "execute_result"
    }
   ],
   "source": [
    "net = Net()\n",
    "net"
   ]
  },
  {
   "cell_type": "code",
   "execution_count": 144,
   "metadata": {},
   "outputs": [],
   "source": [
    "class NN(nn.Module):\n",
    "    def __init__(self):\n",
    "        super(NN, self).__init__()\n",
    "        self.n1  = nn.Linear(3, 1)\n",
    "    \n",
    "    def forward(self, x):\n",
    "        x = self.n1(x)\n",
    "        return x"
   ]
  },
  {
   "cell_type": "code",
   "execution_count": 145,
   "metadata": {},
   "outputs": [
    {
     "data": {
      "text/plain": [
       "NN(\n",
       "  (n1): Linear(in_features=3, out_features=1, bias=True)\n",
       ")"
      ]
     },
     "execution_count": 145,
     "metadata": {},
     "output_type": "execute_result"
    }
   ],
   "source": [
    "nn_net = NN()\n",
    "nn_net"
   ]
  },
  {
   "cell_type": "code",
   "execution_count": 146,
   "metadata": {},
   "outputs": [
    {
     "data": {
      "text/plain": [
       "[Parameter containing:\n",
       " tensor([[ 0.2699,  0.2346, -0.0139]], requires_grad=True),\n",
       " Parameter containing:\n",
       " tensor([0.0062], requires_grad=True)]"
      ]
     },
     "execution_count": 146,
     "metadata": {},
     "output_type": "execute_result"
    }
   ],
   "source": [
    "list(nn_net.parameters())"
   ]
  },
  {
   "cell_type": "code",
   "execution_count": 147,
   "metadata": {},
   "outputs": [
    {
     "data": {
      "text/plain": [
       "tensor([[0.5224]], grad_fn=<AddmmBackward>)"
      ]
     },
     "execution_count": 147,
     "metadata": {},
     "output_type": "execute_result"
    }
   ],
   "source": [
    "in_p = torch.randn(1, 3)\n",
    "nn_net(in_p)"
   ]
  },
  {
   "cell_type": "code",
   "execution_count": 160,
   "metadata": {
    "scrolled": false
   },
   "outputs": [
    {
     "data": {
      "text/plain": [
       "torch.Size([1, 4, 1])"
      ]
     },
     "execution_count": 160,
     "metadata": {},
     "output_type": "execute_result"
    }
   ],
   "source": [
    "m = nn.Conv1d(3, 4, 2, stride=3)\n",
    "input = torch.randn(1, 3, 4)\n",
    "m(input).size()"
   ]
  },
  {
   "cell_type": "code",
   "execution_count": 175,
   "metadata": {},
   "outputs": [
    {
     "data": {
      "text/plain": [
       "torch.Size([1, 2, 3])"
      ]
     },
     "execution_count": 175,
     "metadata": {},
     "output_type": "execute_result"
    }
   ],
   "source": [
    "m2 = nn.Linear(2, 3)\n",
    "m2(torch.randn(1, 2, 2)).size()"
   ]
  },
  {
   "cell_type": "code",
   "execution_count": 225,
   "metadata": {},
   "outputs": [],
   "source": [
    "class CNN1D(nn.Module):\n",
    "    def __init__(self):\n",
    "        super(CNN1D, self).__init__()\n",
    "        self.n1 = nn.Conv1d(3, 3, 2, stride=1) # in size = 1, 3, detail => out size = 1, \n",
    "        self.n2 = nn.Linear(3, 1)\n",
    "    \n",
    "    def forward(self, x):\n",
    "        print(x)\n",
    "        x = self.n1(x)\n",
    "        print(x)\n",
    "        x = self.n2(x)\n",
    "        print(x)\n",
    "        return x"
   ]
  },
  {
   "cell_type": "code",
   "execution_count": 229,
   "metadata": {},
   "outputs": [
    {
     "name": "stdout",
     "output_type": "stream",
     "text": [
      "tensor([[[ 0.4357, -0.8233, -0.7080, -0.2840],\n",
      "         [ 0.9783,  0.0072,  0.0110, -0.8477],\n",
      "         [-0.7495,  1.3963,  1.2906, -0.4996]]])\n",
      "tensor([[[ 0.2721, -0.3404, -0.4177],\n",
      "         [ 0.9219, -0.6342, -0.4521],\n",
      "         [-0.0814,  0.0165, -0.5219]]], grad_fn=<SqueezeBackward1>)\n",
      "tensor([[[0.2241],\n",
      "         [0.1969],\n",
      "         [0.2847]]], grad_fn=<AddBackward0>)\n"
     ]
    },
    {
     "data": {
      "text/plain": [
       "tensor([[[0.2241],\n",
       "         [0.1969],\n",
       "         [0.2847]]], grad_fn=<AddBackward0>)"
      ]
     },
     "execution_count": 229,
     "metadata": {},
     "output_type": "execute_result"
    }
   ],
   "source": [
    "cnn1d = CNN1D()\n",
    "cnn1d(torch.randn(1, 3, 4))"
   ]
  },
  {
   "cell_type": "code",
   "execution_count": 232,
   "metadata": {},
   "outputs": [
    {
     "name": "stdout",
     "output_type": "stream",
     "text": [
      "tensor([[[0.1195, 0.4485, 0.0956, 0.5480],\n",
      "         [0.4441, 0.8259, 0.0165, 0.3777],\n",
      "         [0.2503, 0.5463, 0.7814, 0.8891]]])\n",
      "tensor([[[-0.0369,  0.0185, -0.1713],\n",
      "         [ 0.2185,  0.2945, -0.1946],\n",
      "         [ 0.4480,  0.2866,  0.3508]]], grad_fn=<SqueezeBackward1>)\n",
      "tensor([[[ 0.1384],\n",
      "         [ 0.1231],\n",
      "         [-0.1161]]], grad_fn=<AddBackward0>)\n"
     ]
    },
    {
     "data": {
      "text/plain": [
       "tensor(0.4085, grad_fn=<MseLossBackward>)"
      ]
     },
     "execution_count": 232,
     "metadata": {},
     "output_type": "execute_result"
    }
   ],
   "source": [
    "output = cnn1d(torch.rand(1, 3, 4))\n",
    "tartget = torch.rand(1, 3, 4)\n",
    "criterion = nn.MSELoss()\n",
    "loss = criterion(output, tartget)\n",
    "loss"
   ]
  },
  {
   "cell_type": "code",
   "execution_count": 235,
   "metadata": {},
   "outputs": [
    {
     "name": "stdout",
     "output_type": "stream",
     "text": [
      "tensor([[[0.4742, 0.4546, 0.4372, 0.6813],\n",
      "         [0.4590, 0.3041, 0.5461, 0.4858],\n",
      "         [0.6617, 0.5733, 0.6932, 0.2056]]])\n",
      "tensor([[[-0.1112, -0.1387, -0.1180],\n",
      "         [ 0.1272,  0.1164,  0.1411],\n",
      "         [ 0.3265,  0.3475,  0.4263]]], grad_fn=<SqueezeBackward1>)\n",
      "tensor([[[ 0.1586],\n",
      "         [ 0.0357],\n",
      "         [-0.0946]]], grad_fn=<AddBackward0>)\n",
      "[Parameter containing:\n",
      "tensor([[[-0.0672,  0.1349],\n",
      "         [ 0.2618, -0.0743],\n",
      "         [-0.2065,  0.1159]],\n",
      "\n",
      "        [[ 0.3385, -0.1586],\n",
      "         [ 0.2567,  0.0471],\n",
      "         [-0.4062, -0.1206]],\n",
      "\n",
      "        [[-0.0889,  0.3866],\n",
      "         [ 0.3892,  0.3007],\n",
      "         [ 0.1605,  0.2304]]], requires_grad=True), Parameter containing:\n",
      "tensor([-0.1681,  0.2445, -0.3154], requires_grad=True), Parameter containing:\n",
      "tensor([[-0.0660, -0.0154, -0.3984]], requires_grad=True), Parameter containing:\n",
      "tensor([0.1021], requires_grad=True)]\n",
      "[Parameter containing:\n",
      "tensor([[[-0.0698,  0.1326],\n",
      "         [ 0.2592, -0.0771],\n",
      "         [-0.2082,  0.1139]],\n",
      "\n",
      "        [[ 0.3353, -0.1615],\n",
      "         [ 0.2539,  0.0434],\n",
      "         [-0.4079, -0.1231]],\n",
      "\n",
      "        [[-0.0915,  0.3834],\n",
      "         [ 0.3872,  0.2973],\n",
      "         [ 0.1583,  0.2285]]], requires_grad=True), Parameter containing:\n",
      "tensor([-0.1728,  0.2391, -0.3204], requires_grad=True), Parameter containing:\n",
      "tensor([[-0.0608, -0.0109, -0.3901]], requires_grad=True), Parameter containing:\n",
      "tensor([0.1325], requires_grad=True)]\n"
     ]
    }
   ],
   "source": [
    "output = cnn1d(torch.rand(1, 3, 4))\n",
    "tartget = torch.rand(1, 3, 4)\n",
    "criterion = nn.MSELoss()\n",
    "loss = criterion(output, tartget)\n",
    "\n",
    "loss.backward()\n",
    "import torch.optim as optim\n",
    "print(list(cnn1d.parameters()))\n",
    "optimizer = optim.SGD(cnn1d.parameters(), lr=0.01)\n",
    "optimizer.step()\n",
    "print(list(cnn1d.parameters()))"
   ]
  },
  {
   "cell_type": "code",
   "execution_count": null,
   "metadata": {},
   "outputs": [],
   "source": []
  }
 ],
 "metadata": {
  "kernelspec": {
   "display_name": "Python 3",
   "language": "python",
   "name": "python3"
  },
  "language_info": {
   "codemirror_mode": {
    "name": "ipython",
    "version": 3
   },
   "file_extension": ".py",
   "mimetype": "text/x-python",
   "name": "python",
   "nbconvert_exporter": "python",
   "pygments_lexer": "ipython3",
   "version": "3.6.6"
  }
 },
 "nbformat": 4,
 "nbformat_minor": 2
}
